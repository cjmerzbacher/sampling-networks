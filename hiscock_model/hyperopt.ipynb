{
 "cells": [
  {
   "cell_type": "code",
   "execution_count": 17,
   "metadata": {},
   "outputs": [],
   "source": [
    "import numpy as np\n",
    "from hyperopt import hp, fmin, tpe\n",
    "from scikits.odes.ode import ode\n",
    "import pandas as pd\n",
    "from pyDOE import lhs\n",
    "from functools import partial"
   ]
  },
  {
   "cell_type": "code",
   "execution_count": 27,
   "metadata": {},
   "outputs": [
    {
     "name": "stdout",
     "output_type": "stream",
     "text": [
      "100%|██████████| 1000/1000 [00:05<00:00, 192.64trial/s, best loss: 0.001]               \n"
     ]
    }
   ],
   "source": [
    "def regulon(t, y, ydot):\n",
    "    x, y = y\n",
    "    ydot[0] = (1.95*x**3)/(1+x**3) + (9*y**3)/(6**3 + y**3) - x\n",
    "    ydot[1] = (10*x**3)/(7**3 + x**3) + (1.95*y**3)/(1+y**3) - y\n",
    "\n",
    "global classes \n",
    "classes= []\n",
    "global num_ss \n",
    "num_ss = 0\n",
    "\n",
    "data = []\n",
    "def objective_function(ics): \n",
    "    x_i, y_i = ics\n",
    "    t = np.linspace(0, 1E3, 200) \n",
    "    extra_options = {'old_api': False, 'rtol':1E-6}\n",
    "    ode_solver = ode('cvode', regulon, **extra_options)\n",
    "    solution = ode_solver.solve(t, [x_i, y_i])\n",
    "    x_f, y_f = solution.values.y[-1]\n",
    "    global classes, num_ss\n",
    "    if [x_f, y_f] not in classes:\n",
    "        num_ss = num_ss + 1\n",
    "        classes.append([x_f, y_f])\n",
    "    return 1/num_ss\n",
    "\n",
    "###Define search space\n",
    "space = [hp.uniform('x_i', 0, 10), hp.uniform('y_i', 0, 10)]\n",
    "\n",
    "best = fmin(objective_function, space, algo=tpe.suggest, max_evals=1000)"
   ]
  },
  {
   "cell_type": "code",
   "execution_count": 29,
   "metadata": {},
   "outputs": [
    {
     "data": {
      "text/plain": [
       "1000"
      ]
     },
     "execution_count": 29,
     "metadata": {},
     "output_type": "execute_result"
    }
   ],
   "source": [
    "#"
   ]
  },
  {
   "cell_type": "code",
   "execution_count": null,
   "metadata": {},
   "outputs": [],
   "source": [
    "#Initialization routine\n",
    "\n",
    "#Return 1/number of classes found so far"
   ]
  },
  {
   "cell_type": "code",
   "execution_count": 12,
   "metadata": {},
   "outputs": [],
   "source": []
  },
  {
   "cell_type": "code",
   "execution_count": null,
   "metadata": {},
   "outputs": [],
   "source": []
  }
 ],
 "metadata": {
  "kernelspec": {
   "display_name": "sundials",
   "language": "python",
   "name": "python3"
  },
  "language_info": {
   "codemirror_mode": {
    "name": "ipython",
    "version": 3
   },
   "file_extension": ".py",
   "mimetype": "text/x-python",
   "name": "python",
   "nbconvert_exporter": "python",
   "pygments_lexer": "ipython3",
   "version": "3.9.7"
  }
 },
 "nbformat": 4,
 "nbformat_minor": 2
}
