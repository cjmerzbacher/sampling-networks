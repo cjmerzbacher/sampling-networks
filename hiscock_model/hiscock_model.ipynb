{
 "cells": [
  {
   "cell_type": "code",
   "execution_count": 1,
   "metadata": {},
   "outputs": [],
   "source": [
    "using DifferentialEquations\n",
    "using Plots"
   ]
  },
  {
   "cell_type": "code",
   "execution_count": 42,
   "metadata": {},
   "outputs": [
    {
     "name": "stderr",
     "output_type": "stream",
     "text": [
      "┌ Warning: dt(1.4210854715202004e-14) <= dtmin(1.4210854715202004e-14) at t=0.004832143893210033, and step error estimate = 78.16594331724944. Aborting. There is either an error in your model specification or the true solution is unstable.\n",
      "└ @ SciMLBase C:\\Users\\Charlotte\\.julia\\packages\\SciMLBase\\kTUaf\\src\\integrator_interface.jl:599\n"
     ]
    },
    {
     "data": {
      "text/plain": [
       "retcode: DtLessThanMin\n",
       "Interpolation: 1st order linear\n",
       "t: 1-element Vector{Float64}:\n",
       " 0.0\n",
       "u: 1-element Vector{Vector{Float64}}:\n",
       " [0.1, 0.1, 0.1]"
      ]
     },
     "metadata": {},
     "output_type": "display_data"
    }
   ],
   "source": [
    "#Manually create repressilator to test\n",
    "function oscillator(du, u, p, t)\n",
    "    I = [0.1, 0, 0]\n",
    "    k = 1\n",
    "\n",
    "    du[1] = k*(phi(-u[3]) + I[1] - u[1])\n",
    "    du[2] = k*(phi(-u[1]) + I[2] - u[2])\n",
    "    du[3] = k*(phi(-u[2]) + I[3] - u[3])\n",
    "end\n",
    "\n",
    "tspan = [0, 100] #Span of time to integrate for\n",
    "savetimes = LinRange(0, 100, 100) #linear space of points until final time\n",
    "u0 = fill(0.1, N) #cannot change, can be learned\n",
    "p = [] #empty for now, can change to include parameters to be varied later\n",
    "prob = ODEProblem(oscillator, u0, tspan, p)\n",
    "sol = solve(prob, Rosenbrock23(), reltol=1e-3, abstol=1e-6, saveat=savetimes)"
   ]
  },
  {
   "cell_type": "code",
   "execution_count": 43,
   "metadata": {},
   "outputs": [
    {
     "name": "stdout",
     "output_type": "stream",
     "text": [
      "1\n"
     ]
    },
    {
     "name": "stderr",
     "output_type": "stream",
     "text": [
      "┌ Warning: Instability detected. Aborting\n",
      "└ @ SciMLBase C:\\Users\\Charlotte\\.julia\\packages\\SciMLBase\\kTUaf\\src\\integrator_interface.jl:606\n"
     ]
    },
    {
     "data": {
      "text/plain": [
       "retcode: Unstable\n",
       "Interpolation: 1st order linear\n",
       "t: 1-element Vector{Float64}:\n",
       " 0.0\n",
       "u: 1-element Vector{Vector{Float64}}:\n",
       " [0.1, 0.1, 0.1]"
      ]
     },
     "metadata": {},
     "output_type": "display_data"
    }
   ],
   "source": [
    "#Manually specify an oscillator (repressilator from Alon et al)\n",
    "N = 3\n",
    "W = [[1, 0, -1], [-1, 1, 0], [0, -1, 1]] #Notation is INCOMING\n",
    "I = [0, 0, 0]\n",
    "\n",
    "phi(x) = 1/(exp(x) - 1) #Helper function\n",
    "#Given N, W, I create a ODE function and run it\n",
    "function hiscock_model(N, W, I, endtime=100, resolution=200)\n",
    "    function odes(du, u, p, t)\n",
    "        k = 1 #set to 1 for now, can be learned\n",
    "        for i in 1:N\n",
    "            du[i] = k*(phi(transpose(W[i])*u) + I[i] - u[i])\n",
    "        end\n",
    "    end\n",
    "\n",
    "    tspan = [0, endtime] #Span of time to integrate for\n",
    "    savetimes = LinRange(0, endtime, resolution) #linear space of points until final time\n",
    "    u0 = fill(0.1, N) #cannot change, can be learned\n",
    "    p = [] #empty for now, can change to include parameters to be varied later\n",
    "    prob = ODEProblem(odes, u0, tspan, p)\n",
    "    sol = solve(prob, Rosenbrock23(), reltol=1e-3, abstol=1e-6, saveat=savetimes)\n",
    "    println(length(sol.u))\n",
    "    return sol\n",
    "end\n",
    "\n",
    "sol = hiscock_model(N, W, I, 1000, 10)"
   ]
  },
  {
   "cell_type": "code",
   "execution_count": null,
   "metadata": {},
   "outputs": [],
   "source": []
  },
  {
   "cell_type": "code",
   "execution_count": 24,
   "metadata": {},
   "outputs": [
    {
     "data": {
      "text/plain": [
       "1-element Vector{Vector{Float64}}:\n",
       " [0.1, 0.1, 0.1]"
      ]
     },
     "metadata": {},
     "output_type": "display_data"
    }
   ],
   "source": [
    "function plot_solution(sol)\n",
    "end"
   ]
  }
 ],
 "metadata": {
  "kernelspec": {
   "display_name": "Julia 1.8.5",
   "language": "julia",
   "name": "julia-1.8"
  },
  "language_info": {
   "file_extension": ".jl",
   "mimetype": "application/julia",
   "name": "julia",
   "version": "1.8.5"
  }
 },
 "nbformat": 4,
 "nbformat_minor": 2
}
