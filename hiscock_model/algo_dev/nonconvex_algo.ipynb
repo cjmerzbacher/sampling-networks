{
 "cells": [
  {
   "cell_type": "code",
   "execution_count": 3,
   "metadata": {},
   "outputs": [],
   "source": [
    "using DifferentialEquations\n",
    "using Plots\n",
    "using DataFrames\n",
    "using Peaks #For detecting oscillations\n",
    "using Random\n",
    "using Polyhedra #For creating convex hulls\n",
    "using QHull #For creating convex hulls\n",
    "using Surrogates\n",
    "using AbstractGPs\n",
    "using SurrogatesAbstractGPs"
   ]
  },
  {
   "cell_type": "code",
   "execution_count": 7,
   "metadata": {},
   "outputs": [
    {
     "data": {
      "text/plain": [
       "compute_classes (generic function with 1 method)"
      ]
     },
     "metadata": {},
     "output_type": "display_data"
    }
   ],
   "source": [
    "#Define ODE model and solve\n",
    "\"\"\"ode(du, u, t)\n",
    "        Defines a system of differential equations for a 2D regulon with multiple steady states \n",
    "\"\"\" \n",
    "function ode(du, u, p, t)\n",
    "    du[1] = (1.95*u[1]^3)/(1+u[1]^3) + (9*u[2]^3)/(6^3 + u[2]^3) - u[1]\n",
    "    du[2] = (10*u[1]^3)/(7^3 + u[1]^3) + (1.95*u[2]^3)/(1+u[2]^3) - u[2]\n",
    "end\n",
    "\n",
    "\"\"\"solve_ode(u0)\n",
    "        Integrates ODE system and returns the solution.\n",
    "\"\"\" \n",
    "function solve_ode(u0, endtime=1E4, resolution=200)\n",
    "    tspan = [0, endtime] #Span of time to integrate for\n",
    "    savetimes = LinRange(0, endtime, resolution) #linear space of points until final time\n",
    "    p = []\n",
    "    prob = ODEProblem(ode, u0, tspan, p)\n",
    "    sol = solve(prob, Tsit5(), reltol=1e-3, abstol=1e-6, saveat=savetimes)\n",
    "    return sol\n",
    "end \n",
    "\n",
    "#Sample parameter space\n",
    "\"\"\"initial_sampling(lower_bounds, upper_bounds, n_init)\n",
    "        Returns n_init samples between lower_bounds and upper_bounds. \n",
    "\"\"\" \n",
    "function initial_sampling(lower_bounds, upper_bounds, n_init)\n",
    "    #Sample uniform points across space\n",
    "    n_dims = length(lower_bounds)\n",
    "    samples = Matrix{Float64}(undef, n_init, n_dims)\n",
    "    for d in 1:n_dims\n",
    "        lb = lower_bounds[d]\n",
    "        ub = upper_bounds[d]\n",
    "        for i in 1:n_init\n",
    "            samples[i, d] = rand() * (ub - lb) + lb\n",
    "        end\n",
    "    end\n",
    "    return samples\n",
    "end\n",
    "\n",
    "\n",
    "function class_name(ss)\n",
    "    return string(round(abs(ss[1]), digits=1))*\", \"*string(round(abs(ss[2]), digits=1))\n",
    "end\n",
    "\n",
    "function compute_classes(samples)\n",
    "    return [class_name(solve_ode(samples[i, :]).u[end]) for i in 1:size(samples)[1]]\n",
    "end"
   ]
  },
  {
   "cell_type": "code",
   "execution_count": 9,
   "metadata": {},
   "outputs": [
    {
     "data": {
      "text/plain": [
       "25-element Vector{String}:\n",
       " \"8.5, 8.4\"\n",
       " \"8.5, 8.4\"\n",
       " \"2.1, 2.0\"\n",
       " \"2.1, 2.0\"\n",
       " \"8.5, 8.4\"\n",
       " \"2.1, 2.0\"\n",
       " \"8.5, 8.4\"\n",
       " \"2.1, 2.0\"\n",
       " \"8.5, 8.4\"\n",
       " \"8.5, 8.4\"\n",
       " ⋮\n",
       " \"8.5, 8.4\"\n",
       " \"2.1, 2.0\"\n",
       " \"2.1, 2.0\"\n",
       " \"2.1, 2.0\"\n",
       " \"2.1, 2.0\"\n",
       " \"8.5, 8.4\"\n",
       " \"2.1, 2.0\"\n",
       " \"2.1, 2.0\"\n",
       " \"2.1, 2.0\""
      ]
     },
     "metadata": {},
     "output_type": "display_data"
    }
   ],
   "source": [
    "#Generate uniform intial points and classify\n",
    "n_init = 25\n",
    "samples = initial_sampling([0, 0], [10, 10], n_init)\n",
    "classes = compute_classes(samples)\n",
    "#Compute centroid of each class of points"
   ]
  },
  {
   "cell_type": "code",
   "execution_count": null,
   "metadata": {},
   "outputs": [],
   "source": []
  }
 ],
 "metadata": {
  "kernelspec": {
   "display_name": "Julia 1.8.2",
   "language": "julia",
   "name": "julia-1.8"
  },
  "language_info": {
   "file_extension": ".jl",
   "mimetype": "application/julia",
   "name": "julia",
   "version": "1.8.2"
  }
 },
 "nbformat": 4,
 "nbformat_minor": 2
}
