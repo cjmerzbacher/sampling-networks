{
 "cells": [
  {
   "cell_type": "code",
   "execution_count": 3,
   "metadata": {},
   "outputs": [],
   "source": [
    "using DifferentialEquations\n",
    "using Plots\n",
    "using DataFrames\n",
    "using Random"
   ]
  },
  {
   "cell_type": "code",
   "execution_count": 1,
   "metadata": {},
   "outputs": [
    {
     "data": {
      "text/plain": [
       "solve_ode"
      ]
     },
     "metadata": {},
     "output_type": "display_data"
    }
   ],
   "source": [
    "#Define ODE model and solve\n",
    "\"\"\"ode(du, u, t)\n",
    "        Defines a system of differential equations for a 2D regulon with multiple steady states \n",
    "\"\"\" \n",
    "function ode(du, u, p, t)\n",
    "    du[1] = (1.95*u[1]^3)/(1+u[1]^3) + (9*u[2]^3)/(6^3 + u[2]^3) - u[1]\n",
    "    du[2] = (10*u[1]^3)/(7^3 + u[1]^3) + (1.95*u[2]^3)/(1+u[2]^3) - u[2]\n",
    "end\n",
    "\n",
    "\"\"\"solve_ode(u0)\n",
    "        Integrates ODE system and returns the solution.\n",
    "\"\"\" \n",
    "function solve_ode(u0, endtime=1E4, resolution=200)\n",
    "    tspan = [0, endtime] #Span of time to integrate for\n",
    "    savetimes = LinRange(0, endtime, resolution) #linear space of points until final time\n",
    "    p = []\n",
    "    prob = ODEProblem(ode, u0, tspan, p)\n",
    "    sol = solve(prob, Tsit5(), reltol=1e-3, abstol=1e-6, saveat=savetimes)\n",
    "    return sol\n",
    "end "
   ]
  },
  {
   "cell_type": "code",
   "execution_count": 5,
   "metadata": {},
   "outputs": [
    {
     "data": {
      "text/plain": [
       "2×2 Matrix{Int64}:\n",
       " 0  10\n",
       " 0  10"
      ]
     },
     "metadata": {},
     "output_type": "display_data"
    }
   ],
   "source": [
    "function reduce_dimensionality(space)\n",
    "    return space\n",
    "end\n",
    "\n",
    "space = [[0, 0] [10, 10]]\n",
    "reduce_dimensionality(space)"
   ]
  },
  {
   "cell_type": "code",
   "execution_count": null,
   "metadata": {},
   "outputs": [],
   "source": [
    "\n"
   ]
  }
 ],
 "metadata": {
  "kernelspec": {
   "display_name": "Julia 1.8.2",
   "language": "julia",
   "name": "julia-1.8"
  },
  "language_info": {
   "file_extension": ".jl",
   "mimetype": "application/julia",
   "name": "julia",
   "version": "1.8.2"
  }
 },
 "nbformat": 4,
 "nbformat_minor": 2
}
